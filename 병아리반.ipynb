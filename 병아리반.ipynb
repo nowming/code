{
 "cells": [
  {
   "cell_type": "code",
   "execution_count": 1,
   "metadata": {},
   "outputs": [
    {
     "name": "stdout",
     "output_type": "stream",
     "text": [
      "hello world\n"
     ]
    }
   ],
   "source": [
    "print('hello world')"
   ]
  },
  {
   "cell_type": "code",
   "execution_count": 2,
   "metadata": {},
   "outputs": [
    {
     "name": "stdout",
     "output_type": "stream",
     "text": [
      "파이쏭\n"
     ]
    }
   ],
   "source": [
    "name = '파이쏭'\n",
    "print(name)"
   ]
  },
  {
   "cell_type": "code",
   "execution_count": 3,
   "metadata": {},
   "outputs": [
    {
     "name": "stdout",
     "output_type": "stream",
     "text": [
      "1024\n"
     ]
    }
   ],
   "source": [
    "a = 1024\n",
    "print (a)"
   ]
  },
  {
   "cell_type": "code",
   "execution_count": 4,
   "metadata": {},
   "outputs": [
    {
     "name": "stdout",
     "output_type": "stream",
     "text": [
      "파이쏭님! 안녕하세요\n"
     ]
    }
   ],
   "source": [
    "name = '파이쏭'\n",
    "print (name + '님! 안녕하세요')"
   ]
  },
  {
   "cell_type": "code",
   "execution_count": 5,
   "metadata": {},
   "outputs": [
    {
     "name": "stdout",
     "output_type": "stream",
     "text": [
      "2020 원더키디 화이팅\n"
     ]
    }
   ],
   "source": [
    "name = '원더키디'\n",
    "print(2020, name, '화이팅')"
   ]
  },
  {
   "cell_type": "code",
   "execution_count": 6,
   "metadata": {},
   "outputs": [
    {
     "name": "stdout",
     "output_type": "stream",
     "text": [
      "유르릉\n",
      "유르릉님! 안녕하세요\n"
     ]
    }
   ],
   "source": [
    "name = input()\n",
    "print (name + '님! 안녕하세요')"
   ]
  },
  {
   "cell_type": "code",
   "execution_count": 7,
   "metadata": {},
   "outputs": [
    {
     "name": "stdout",
     "output_type": "stream",
     "text": [
      "이름을 입력해주세요 : 이 유르릉\n",
      "이 유르릉님! 안녕하세요\n"
     ]
    }
   ],
   "source": [
    "name = input('이름을 입력해주세요 : ')\n",
    "print (name + '님! 안녕하세요')"
   ]
  },
  {
   "cell_type": "code",
   "execution_count": 8,
   "metadata": {},
   "outputs": [
    {
     "name": "stdout",
     "output_type": "stream",
     "text": [
      "나이를 입력해주세요 : 32\n",
      "28\n"
     ]
    }
   ],
   "source": [
    "age = input('나이를 입력해주세요 : ')\n",
    "print(int(age)-4)"
   ]
  },
  {
   "cell_type": "code",
   "execution_count": 9,
   "metadata": {},
   "outputs": [
    {
     "name": "stdout",
     "output_type": "stream",
     "text": [
      "이름을 입력해주세요 : 이유르릉\n",
      "나이를 입력해주세요 : 32\n"
     ]
    },
    {
     "ename": "TypeError",
     "evalue": "can only concatenate str (not \"int\") to str",
     "output_type": "error",
     "traceback": [
      "\u001b[1;31m---------------------------------------------------------------------------\u001b[0m",
      "\u001b[1;31mTypeError\u001b[0m                                 Traceback (most recent call last)",
      "\u001b[1;32m<ipython-input-9-8538fb172d23>\u001b[0m in \u001b[0;36m<module>\u001b[1;34m\u001b[0m\n\u001b[0;32m      1\u001b[0m \u001b[0mname\u001b[0m \u001b[1;33m=\u001b[0m \u001b[0minput\u001b[0m\u001b[1;33m(\u001b[0m\u001b[1;34m'이름을 입력해주세요 : '\u001b[0m\u001b[1;33m)\u001b[0m\u001b[1;33m\u001b[0m\u001b[1;33m\u001b[0m\u001b[0m\n\u001b[0;32m      2\u001b[0m \u001b[0mage\u001b[0m \u001b[1;33m=\u001b[0m \u001b[0mint\u001b[0m\u001b[1;33m(\u001b[0m\u001b[0minput\u001b[0m\u001b[1;33m(\u001b[0m\u001b[1;34m'나이를 입력해주세요 : '\u001b[0m\u001b[1;33m)\u001b[0m\u001b[1;33m)\u001b[0m\u001b[1;33m\u001b[0m\u001b[1;33m\u001b[0m\u001b[0m\n\u001b[1;32m----> 3\u001b[1;33m \u001b[0mprint\u001b[0m\u001b[1;33m(\u001b[0m\u001b[0mname\u001b[0m \u001b[1;33m+\u001b[0m \u001b[1;34m'님의 나이는 '\u001b[0m\u001b[1;33m+\u001b[0m \u001b[0mage\u001b[0m \u001b[1;33m+\u001b[0m \u001b[1;34m'살 입니다'\u001b[0m\u001b[1;33m)\u001b[0m\u001b[1;33m\u001b[0m\u001b[1;33m\u001b[0m\u001b[0m\n\u001b[0m",
      "\u001b[1;31mTypeError\u001b[0m: can only concatenate str (not \"int\") to str"
     ]
    }
   ],
   "source": [
    "name = input('이름을 입력해주세요 : ')\n",
    "age = int(input('나이를 입력해주세요 : '))\n",
    "print(name + '님의 나이는 '+ age + '살 입니다')"
   ]
  },
  {
   "cell_type": "code",
   "execution_count": 10,
   "metadata": {},
   "outputs": [
    {
     "name": "stdout",
     "output_type": "stream",
     "text": [
      "이름을 입력해주세요 : 이 유르릉\n",
      "나이를 입력해주세요 : 32\n",
      "이 유르릉님의 나이는 32살 입니다\n"
     ]
    }
   ],
   "source": [
    "name = input('이름을 입력해주세요 : ')\n",
    "age = int(input('나이를 입력해주세요 : '))\n",
    "print(name + '님의 나이는 '+ str(age) + '살 입니다')"
   ]
  },
  {
   "cell_type": "code",
   "execution_count": 11,
   "metadata": {},
   "outputs": [
    {
     "name": "stdout",
     "output_type": "stream",
     "text": [
      "30\n",
      "59049\n",
      "3\n",
      "1.5\n",
      "1\n"
     ]
    }
   ],
   "source": [
    "print(3*10)\n",
    "print(3**10)\n",
    "print(3%10)\n",
    "print(3/2)\n",
    "print(3//2)"
   ]
  },
  {
   "cell_type": "code",
   "execution_count": null,
   "metadata": {},
   "outputs": [],
   "source": [
    "print(10 >= 3)\n",
    "print(10 <= 3)\n",
    "print(10 == 3)\n",
    "print(10 !=3)\n",
    "print(3%2 ==1)"
   ]
  },
  {
   "cell_type": "code",
   "execution_count": null,
   "metadata": {},
   "outputs": [],
   "source": [
    "print(3%2 = =1)"
   ]
  },
  {
   "cell_type": "code",
   "execution_count": 14,
   "metadata": {},
   "outputs": [
    {
     "name": "stdout",
     "output_type": "stream",
     "text": [
      "True\n",
      "False\n"
     ]
    }
   ],
   "source": [
    "print(1 == 1 and 2 != 1)\n",
    "print(10 % 2 != 0 and 1 + 1 > 0)"
   ]
  },
  {
   "cell_type": "code",
   "execution_count": 15,
   "metadata": {},
   "outputs": [
    {
     "name": "stdout",
     "output_type": "stream",
     "text": [
      "False\n",
      "True\n"
     ]
    }
   ],
   "source": [
    "print(10 < 5 or 10 ==5)\n",
    "print(10 % 2 != 0 or 1 + 1 > 0)"
   ]
  },
  {
   "cell_type": "code",
   "execution_count": 16,
   "metadata": {},
   "outputs": [
    {
     "name": "stdout",
     "output_type": "stream",
     "text": [
      "False\n",
      "True\n",
      "True\n",
      "False\n"
     ]
    }
   ],
   "source": [
    "print(not 10 > 5)\n",
    "print(not 10 == 5)\n",
    "print(not 0)\n",
    "print(not 10)"
   ]
  },
  {
   "cell_type": "code",
   "execution_count": 21,
   "metadata": {},
   "outputs": [
    {
     "name": "stdout",
     "output_type": "stream",
     "text": [
      "8\n"
     ]
    }
   ],
   "source": [
    "import random\n",
    "dice = random.randint(1,8)\n",
    "print(dice)"
   ]
  },
  {
   "cell_type": "code",
   "execution_count": 22,
   "metadata": {},
   "outputs": [
    {
     "name": "stdout",
     "output_type": "stream",
     "text": [
      "1.4142135623730951\n"
     ]
    }
   ],
   "source": [
    "import math\n",
    "print(math.sqrt(2))"
   ]
  },
  {
   "cell_type": "code",
   "execution_count": 23,
   "metadata": {},
   "outputs": [
    {
     "name": "stdout",
     "output_type": "stream",
     "text": [
      "유\n",
      "르\n",
      "릉\n"
     ]
    }
   ],
   "source": [
    "name = '유르릉'\n",
    "for i in name :\n",
    "    print(i)"
   ]
  },
  {
   "cell_type": "code",
   "execution_count": 24,
   "metadata": {},
   "outputs": [
    {
     "name": "stdout",
     "output_type": "stream",
     "text": [
      "율주\n",
      "아라\n",
      "경창\n"
     ]
    }
   ],
   "source": [
    "names = ['율주','아라','경창']\n",
    "for name in names :\n",
    "    print(name)"
   ]
  },
  {
   "cell_type": "code",
   "execution_count": 25,
   "metadata": {},
   "outputs": [
    {
     "name": "stdout",
     "output_type": "stream",
     "text": [
      "0\n",
      "1\n",
      "4\n",
      "9\n"
     ]
    }
   ],
   "source": [
    "for i in [0,1,2,3] :\n",
    "    print(i**2)"
   ]
  },
  {
   "cell_type": "code",
   "execution_count": 27,
   "metadata": {},
   "outputs": [
    {
     "name": "stdout",
     "output_type": "stream",
     "text": [
      "0\n",
      "1\n",
      "4\n",
      "9\n",
      "16\n"
     ]
    }
   ],
   "source": [
    "for i in range(5) :\n",
    "    print(i ** 2)"
   ]
  },
  {
   "cell_type": "code",
   "execution_count": 28,
   "metadata": {},
   "outputs": [
    {
     "name": "stdout",
     "output_type": "stream",
     "text": [
      "반복문\n",
      "반복문\n",
      "반복문\n",
      "반복문\n",
      "반복문\n",
      "반복문\n",
      "반복문\n",
      "반복문\n",
      "반복문\n"
     ]
    }
   ],
   "source": [
    "for i in range(1,10) :\n",
    "    print ('반복문')"
   ]
  },
  {
   "cell_type": "code",
   "execution_count": 29,
   "metadata": {},
   "outputs": [
    {
     "name": "stdout",
     "output_type": "stream",
     "text": [
      "ㅎㅇㅎㅇ\n"
     ]
    }
   ],
   "source": [
    "if 10 > 0 : \n",
    "    print('ㅎㅇㅎㅇ')"
   ]
  },
  {
   "cell_type": "code",
   "execution_count": 31,
   "metadata": {},
   "outputs": [
    {
     "name": "stdout",
     "output_type": "stream",
     "text": [
      "ㅎㅇㅎㅇ\n"
     ]
    }
   ],
   "source": [
    "if 10 != 0 and 5 % 2 ==1 :\n",
    "    print('ㅎㅇㅎㅇ')"
   ]
  },
  {
   "cell_type": "code",
   "execution_count": 32,
   "metadata": {},
   "outputs": [
    {
     "name": "stdout",
     "output_type": "stream",
     "text": [
      "비밀번호 4자리를 입력하세요 :1531\n",
      "비밀번호가 일치합니다\n"
     ]
    }
   ],
   "source": [
    "passwd = int(input('비밀번호 4자리를 입력하세요 :'))\n",
    "if passwd == 1531 :\n",
    "    print('비밀번호가 일치합니다')"
   ]
  },
  {
   "cell_type": "code",
   "execution_count": 33,
   "metadata": {},
   "outputs": [
    {
     "name": "stdout",
     "output_type": "stream",
     "text": [
      "비밀번호 4자리를 입력하세요 :3333\n",
      "____________________\n"
     ]
    }
   ],
   "source": [
    "passwd = int(input('비밀번호 4자리를 입력하세요 :'))\n",
    "if passwd == 1531 :\n",
    "    print('비밀번호가 일치합니다')\n",
    "else :\n",
    "    print('____________________')"
   ]
  },
  {
   "cell_type": "code",
   "execution_count": 35,
   "metadata": {},
   "outputs": [
    {
     "name": "stdout",
     "output_type": "stream",
     "text": [
      "[소름끼치도록 놀라운 심리테스트]\n",
      "당신이 좋아하는 음식을 입력해주세요 : 몰라\n",
      "당신은 짜장면과 아이스크림과 사탕을 좋아하지 않습니다\n"
     ]
    }
   ],
   "source": [
    "print('[소름끼치도록 놀라운 심리테스트]')\n",
    "menu = input('당신이 좋아하는 음식을 입력해주세요 : ')\n",
    "if menu == '짜장면' :\n",
    "    print('당신은 짜장면을 좋아합니다')\n",
    "elif menu == '아이스크림' :\n",
    "    print('당신은 아이스크림을 좋아합니다')\n",
    "elif menu == '사탕' :\n",
    "    print('당신은 사탕을 좋아합니다')\n",
    "else :\n",
    "    print('당신은 짜장면과 아이스크림과 사탕을 좋아하지 않습니다')"
   ]
  },
  {
   "cell_type": "code",
   "execution_count": 36,
   "metadata": {},
   "outputs": [
    {
     "name": "stdout",
     "output_type": "stream",
     "text": [
      "배\n"
     ]
    }
   ],
   "source": [
    "names = ['사과','배','포도']\n",
    "print(names[1])"
   ]
  },
  {
   "cell_type": "code",
   "execution_count": 38,
   "metadata": {},
   "outputs": [
    {
     "name": "stdout",
     "output_type": "stream",
     "text": [
      "사과\n",
      "배\n",
      "포도\n"
     ]
    }
   ],
   "source": [
    "names = ['사과','배','포도']\n",
    "print(names[0])\n",
    "print(names[1])\n",
    "print(names[2])"
   ]
  },
  {
   "cell_type": "code",
   "execution_count": 39,
   "metadata": {},
   "outputs": [
    {
     "name": "stdout",
     "output_type": "stream",
     "text": [
      "포도\n"
     ]
    }
   ],
   "source": [
    "names = ['사과','배','포도']\n",
    "print(names[-1])"
   ]
  },
  {
   "cell_type": "code",
   "execution_count": 43,
   "metadata": {},
   "outputs": [
    {
     "name": "stdout",
     "output_type": "stream",
     "text": [
      "['사과', '배']\n",
      "['배', '포도']\n",
      "['배', '포도']\n",
      "['사과', '배', '포도']\n"
     ]
    }
   ],
   "source": [
    "names = ['사과','배','포도']\n",
    "print(names[0:2]) #0이상 2미만\n",
    "print(names[1:3])\n",
    "print(names[1:])\n",
    "print(names[:])"
   ]
  },
  {
   "cell_type": "code",
   "execution_count": 44,
   "metadata": {},
   "outputs": [
    {
     "name": "stdout",
     "output_type": "stream",
     "text": [
      "['사과', '배', '포도', '커피']\n"
     ]
    }
   ],
   "source": [
    "names = ['사과','배','포도']\n",
    "names.append('커피')\n",
    "print(names)"
   ]
  },
  {
   "cell_type": "code",
   "execution_count": 45,
   "metadata": {},
   "outputs": [
    {
     "name": "stdout",
     "output_type": "stream",
     "text": [
      "4\n"
     ]
    }
   ],
   "source": [
    "print(len(names))"
   ]
  },
  {
   "cell_type": "code",
   "execution_count": 46,
   "metadata": {},
   "outputs": [
    {
     "name": "stdout",
     "output_type": "stream",
     "text": [
      "8\n"
     ]
    }
   ],
   "source": [
    "print(len('파이썬 병아리반'))"
   ]
  },
  {
   "cell_type": "code",
   "execution_count": 48,
   "metadata": {},
   "outputs": [
    {
     "name": "stdout",
     "output_type": "stream",
     "text": [
      "바나나 왔나요?\n",
      "블루베리 왔나요?\n"
     ]
    }
   ],
   "source": [
    "names = ['사과','배','포도','커피','바나나']\n",
    "names.append('블루베리')\n",
    "for name in names :\n",
    "    if len(name) > 2 :\n",
    "        print(name,'왔나요?')"
   ]
  },
  {
   "cell_type": "code",
   "execution_count": null,
   "metadata": {},
   "outputs": [],
   "source": []
  }
 ],
 "metadata": {
  "kernelspec": {
   "display_name": "Python 3",
   "language": "python",
   "name": "python3"
  },
  "language_info": {
   "codemirror_mode": {
    "name": "ipython",
    "version": 3
   },
   "file_extension": ".py",
   "mimetype": "text/x-python",
   "name": "python",
   "nbconvert_exporter": "python",
   "pygments_lexer": "ipython3",
   "version": "3.7.6"
  }
 },
 "nbformat": 4,
 "nbformat_minor": 4
}
